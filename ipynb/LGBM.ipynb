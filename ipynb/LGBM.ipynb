{
 "cells": [
  {
   "cell_type": "code",
   "execution_count": 1,
   "metadata": {},
   "outputs": [],
   "source": [
    "import pickle\n",
    "import pandas as pd\n",
    "import numpy as np\n",
    "\n",
    "import xgboost as xgb\n",
    "import lightgbm as lgb\n",
    "\n",
    "from sklearn.ensemble import RandomForestClassifier as rf\n",
    "from sklearn.metrics import mean_squared_error\n",
    "from sklearn.model_selection import train_test_split\n",
    "from sklearn.metrics import confusion_matrix\n",
    "from sklearn.model_selection import GridSearchCV\n",
    "from sklearn import preprocessing"
   ]
  },
  {
   "cell_type": "code",
   "execution_count": 2,
   "metadata": {},
   "outputs": [],
   "source": [
    "with open('../data/HCD35_pos.pickle', mode='rb') as fp:\n",
    "    df = pickle.load(fp)"
   ]
  },
  {
   "cell_type": "code",
   "execution_count": 3,
   "metadata": {},
   "outputs": [],
   "source": [
    "objective = df.Subclass\n",
    "le = preprocessing.LabelEncoder()\n",
    "objective = le.fit_transform(objective)\n",
    "\n",
    "features = df.drop('Subclass', axis=1)"
   ]
  },
  {
   "cell_type": "code",
   "execution_count": 4,
   "metadata": {},
   "outputs": [],
   "source": [
    "random_state=np.random.seed(42)\n",
    "X_train, X_test, y_train, y_test = train_test_split(\n",
    "    features, \n",
    "    objective,\n",
    "    test_size=0.2\n",
    ")"
   ]
  },
  {
   "cell_type": "code",
   "execution_count": 5,
   "metadata": {
    "scrolled": true
   },
   "outputs": [
    {
     "name": "stdout",
     "output_type": "stream",
     "text": [
      "[1]\tvalid_0's multi_logloss: 1.29145\n",
      "Training until validation scores don't improve for 5 rounds.\n",
      "[2]\tvalid_0's multi_logloss: 1.21452\n",
      "[3]\tvalid_0's multi_logloss: 1.15365\n",
      "[4]\tvalid_0's multi_logloss: 1.09686\n",
      "[5]\tvalid_0's multi_logloss: 1.04324\n",
      "[6]\tvalid_0's multi_logloss: 0.998936\n",
      "[7]\tvalid_0's multi_logloss: 0.95854\n",
      "[8]\tvalid_0's multi_logloss: 0.920718\n",
      "[9]\tvalid_0's multi_logloss: 0.884942\n",
      "[10]\tvalid_0's multi_logloss: 0.85388\n",
      "[11]\tvalid_0's multi_logloss: 0.826812\n",
      "[12]\tvalid_0's multi_logloss: 0.801204\n",
      "[13]\tvalid_0's multi_logloss: 0.776979\n",
      "[14]\tvalid_0's multi_logloss: 0.754699\n",
      "[15]\tvalid_0's multi_logloss: 0.732505\n",
      "[16]\tvalid_0's multi_logloss: 0.713398\n",
      "[17]\tvalid_0's multi_logloss: 0.695414\n",
      "[18]\tvalid_0's multi_logloss: 0.677439\n",
      "[19]\tvalid_0's multi_logloss: 0.66238\n",
      "[20]\tvalid_0's multi_logloss: 0.647323\n",
      "[21]\tvalid_0's multi_logloss: 0.635144\n",
      "[22]\tvalid_0's multi_logloss: 0.621423\n",
      "[23]\tvalid_0's multi_logloss: 0.611063\n",
      "[24]\tvalid_0's multi_logloss: 0.60077\n",
      "[25]\tvalid_0's multi_logloss: 0.590802\n",
      "[26]\tvalid_0's multi_logloss: 0.579039\n",
      "[27]\tvalid_0's multi_logloss: 0.569352\n",
      "[28]\tvalid_0's multi_logloss: 0.561141\n",
      "[29]\tvalid_0's multi_logloss: 0.555677\n",
      "[30]\tvalid_0's multi_logloss: 0.548668\n",
      "[31]\tvalid_0's multi_logloss: 0.540705\n",
      "[32]\tvalid_0's multi_logloss: 0.532067\n",
      "[33]\tvalid_0's multi_logloss: 0.525775\n",
      "[34]\tvalid_0's multi_logloss: 0.519164\n",
      "[35]\tvalid_0's multi_logloss: 0.513465\n",
      "[36]\tvalid_0's multi_logloss: 0.506237\n",
      "[37]\tvalid_0's multi_logloss: 0.500018\n",
      "[38]\tvalid_0's multi_logloss: 0.495268\n",
      "[39]\tvalid_0's multi_logloss: 0.489788\n",
      "[40]\tvalid_0's multi_logloss: 0.483481\n",
      "[41]\tvalid_0's multi_logloss: 0.480156\n",
      "[42]\tvalid_0's multi_logloss: 0.47663\n",
      "[43]\tvalid_0's multi_logloss: 0.472808\n",
      "[44]\tvalid_0's multi_logloss: 0.467755\n",
      "[45]\tvalid_0's multi_logloss: 0.466509\n",
      "[46]\tvalid_0's multi_logloss: 0.465076\n",
      "[47]\tvalid_0's multi_logloss: 0.464034\n",
      "[48]\tvalid_0's multi_logloss: 0.460912\n",
      "[49]\tvalid_0's multi_logloss: 0.456276\n",
      "[50]\tvalid_0's multi_logloss: 0.452455\n",
      "[51]\tvalid_0's multi_logloss: 0.448551\n",
      "[52]\tvalid_0's multi_logloss: 0.44707\n",
      "[53]\tvalid_0's multi_logloss: 0.443438\n",
      "[54]\tvalid_0's multi_logloss: 0.442683\n",
      "[55]\tvalid_0's multi_logloss: 0.440094\n",
      "[56]\tvalid_0's multi_logloss: 0.438835\n",
      "[57]\tvalid_0's multi_logloss: 0.436315\n",
      "[58]\tvalid_0's multi_logloss: 0.43335\n",
      "[59]\tvalid_0's multi_logloss: 0.431035\n",
      "[60]\tvalid_0's multi_logloss: 0.429703\n",
      "[61]\tvalid_0's multi_logloss: 0.428327\n",
      "[62]\tvalid_0's multi_logloss: 0.427352\n",
      "[63]\tvalid_0's multi_logloss: 0.425607\n",
      "[64]\tvalid_0's multi_logloss: 0.426037\n",
      "[65]\tvalid_0's multi_logloss: 0.423839\n",
      "[66]\tvalid_0's multi_logloss: 0.422534\n",
      "[67]\tvalid_0's multi_logloss: 0.42395\n",
      "[68]\tvalid_0's multi_logloss: 0.424305\n",
      "[69]\tvalid_0's multi_logloss: 0.422293\n",
      "[70]\tvalid_0's multi_logloss: 0.421042\n",
      "[71]\tvalid_0's multi_logloss: 0.419523\n",
      "[72]\tvalid_0's multi_logloss: 0.419971\n",
      "[73]\tvalid_0's multi_logloss: 0.418215\n",
      "[74]\tvalid_0's multi_logloss: 0.418091\n",
      "[75]\tvalid_0's multi_logloss: 0.416006\n",
      "[76]\tvalid_0's multi_logloss: 0.417274\n",
      "[77]\tvalid_0's multi_logloss: 0.415794\n",
      "[78]\tvalid_0's multi_logloss: 0.415062\n",
      "[79]\tvalid_0's multi_logloss: 0.415067\n",
      "[80]\tvalid_0's multi_logloss: 0.41645\n",
      "[81]\tvalid_0's multi_logloss: 0.416986\n",
      "[82]\tvalid_0's multi_logloss: 0.417015\n",
      "[83]\tvalid_0's multi_logloss: 0.417617\n",
      "Early stopping, best iteration is:\n",
      "[78]\tvalid_0's multi_logloss: 0.415062\n"
     ]
    },
    {
     "name": "stderr",
     "output_type": "stream",
     "text": [
      "/home/yoshitaka-i/anaconda3/envs/py36/lib/python3.6/site-packages/sklearn/preprocessing/label.py:151: DeprecationWarning: The truth value of an empty array is ambiguous. Returning False, but in future this will result in an error. Use `array.size > 0` to check that an array is not empty.\n",
      "  if diff:\n"
     ]
    },
    {
     "data": {
      "text/plain": [
       "0.8392857142857143"
      ]
     },
     "execution_count": 5,
     "metadata": {},
     "output_type": "execute_result"
    }
   ],
   "source": [
    "gbm = lgb.LGBMClassifier(\n",
    "    objective='multiclass',\n",
    "    device = 'gpu'\n",
    ")\n",
    "\n",
    "gbm.fit(\n",
    "    X_train, \n",
    "    y_train,\n",
    "    eval_set=[(X_test, y_test)],\n",
    "    early_stopping_rounds=5\n",
    ")\n",
    "\n",
    "pickle.dump(gbm, open('../model/lgbm_HCD35_pos.sav', 'wb'))\n",
    "gbm.score(X_test, y_test)"
   ]
  },
  {
   "cell_type": "code",
   "execution_count": null,
   "metadata": {},
   "outputs": [],
   "source": []
  },
  {
   "cell_type": "code",
   "execution_count": 6,
   "metadata": {},
   "outputs": [],
   "source": [
    "with open('../data/HCD45_pos.pickle', mode='rb') as fp:\n",
    "    df = pickle.load(fp)"
   ]
  },
  {
   "cell_type": "code",
   "execution_count": 7,
   "metadata": {},
   "outputs": [],
   "source": [
    "objective = df.Subclass\n",
    "le = preprocessing.LabelEncoder()\n",
    "objective = le.fit_transform(objective)\n",
    "\n",
    "features = df.drop('Subclass', axis=1)"
   ]
  },
  {
   "cell_type": "code",
   "execution_count": 8,
   "metadata": {},
   "outputs": [],
   "source": [
    "random_state=np.random.seed(42)\n",
    "X_train, X_test, y_train, y_test = train_test_split(\n",
    "    features, \n",
    "    objective,\n",
    "    test_size=0.2\n",
    ")"
   ]
  },
  {
   "cell_type": "code",
   "execution_count": 9,
   "metadata": {
    "scrolled": true
   },
   "outputs": [
    {
     "name": "stdout",
     "output_type": "stream",
     "text": [
      "[1]\tvalid_0's multi_logloss: 1.29231\n",
      "Training until validation scores don't improve for 5 rounds.\n",
      "[2]\tvalid_0's multi_logloss: 1.22044\n",
      "[3]\tvalid_0's multi_logloss: 1.15759\n",
      "[4]\tvalid_0's multi_logloss: 1.10527\n",
      "[5]\tvalid_0's multi_logloss: 1.05431\n",
      "[6]\tvalid_0's multi_logloss: 1.01236\n",
      "[7]\tvalid_0's multi_logloss: 0.971375\n",
      "[8]\tvalid_0's multi_logloss: 0.935873\n",
      "[9]\tvalid_0's multi_logloss: 0.904783\n",
      "[10]\tvalid_0's multi_logloss: 0.874381\n",
      "[11]\tvalid_0's multi_logloss: 0.846309\n",
      "[12]\tvalid_0's multi_logloss: 0.822394\n",
      "[13]\tvalid_0's multi_logloss: 0.798726\n",
      "[14]\tvalid_0's multi_logloss: 0.777977\n",
      "[15]\tvalid_0's multi_logloss: 0.755864\n",
      "[16]\tvalid_0's multi_logloss: 0.737617\n",
      "[17]\tvalid_0's multi_logloss: 0.721305\n",
      "[18]\tvalid_0's multi_logloss: 0.706719\n",
      "[19]\tvalid_0's multi_logloss: 0.690823\n",
      "[20]\tvalid_0's multi_logloss: 0.678504\n",
      "[21]\tvalid_0's multi_logloss: 0.663004\n",
      "[22]\tvalid_0's multi_logloss: 0.650599\n",
      "[23]\tvalid_0's multi_logloss: 0.639505\n",
      "[24]\tvalid_0's multi_logloss: 0.630802\n",
      "[25]\tvalid_0's multi_logloss: 0.622712\n",
      "[26]\tvalid_0's multi_logloss: 0.615215\n",
      "[27]\tvalid_0's multi_logloss: 0.610225\n",
      "[28]\tvalid_0's multi_logloss: 0.601761\n",
      "[29]\tvalid_0's multi_logloss: 0.596638\n",
      "[30]\tvalid_0's multi_logloss: 0.589626\n",
      "[31]\tvalid_0's multi_logloss: 0.581745\n",
      "[32]\tvalid_0's multi_logloss: 0.577162\n",
      "[33]\tvalid_0's multi_logloss: 0.573145\n",
      "[34]\tvalid_0's multi_logloss: 0.569184\n",
      "[35]\tvalid_0's multi_logloss: 0.565905\n",
      "[36]\tvalid_0's multi_logloss: 0.558908\n",
      "[37]\tvalid_0's multi_logloss: 0.55332\n",
      "[38]\tvalid_0's multi_logloss: 0.549188\n",
      "[39]\tvalid_0's multi_logloss: 0.545946\n",
      "[40]\tvalid_0's multi_logloss: 0.542661\n",
      "[41]\tvalid_0's multi_logloss: 0.537877\n",
      "[42]\tvalid_0's multi_logloss: 0.534174\n",
      "[43]\tvalid_0's multi_logloss: 0.53047\n",
      "[44]\tvalid_0's multi_logloss: 0.526454\n",
      "[45]\tvalid_0's multi_logloss: 0.52425\n",
      "[46]\tvalid_0's multi_logloss: 0.520221\n",
      "[47]\tvalid_0's multi_logloss: 0.518641\n",
      "[48]\tvalid_0's multi_logloss: 0.516074\n",
      "[49]\tvalid_0's multi_logloss: 0.513961\n",
      "[50]\tvalid_0's multi_logloss: 0.510366\n",
      "[51]\tvalid_0's multi_logloss: 0.507468\n",
      "[52]\tvalid_0's multi_logloss: 0.505116\n",
      "[53]\tvalid_0's multi_logloss: 0.501909\n",
      "[54]\tvalid_0's multi_logloss: 0.50032\n",
      "[55]\tvalid_0's multi_logloss: 0.496276\n",
      "[56]\tvalid_0's multi_logloss: 0.494784\n",
      "[57]\tvalid_0's multi_logloss: 0.493455\n",
      "[58]\tvalid_0's multi_logloss: 0.492813\n",
      "[59]\tvalid_0's multi_logloss: 0.492432\n",
      "[60]\tvalid_0's multi_logloss: 0.490806\n",
      "[61]\tvalid_0's multi_logloss: 0.491044\n",
      "[62]\tvalid_0's multi_logloss: 0.489868\n",
      "[63]\tvalid_0's multi_logloss: 0.48769\n",
      "[64]\tvalid_0's multi_logloss: 0.486972\n",
      "[65]\tvalid_0's multi_logloss: 0.486286\n",
      "[66]\tvalid_0's multi_logloss: 0.484681\n",
      "[67]\tvalid_0's multi_logloss: 0.483078\n",
      "[68]\tvalid_0's multi_logloss: 0.482167\n",
      "[69]\tvalid_0's multi_logloss: 0.481443\n",
      "[70]\tvalid_0's multi_logloss: 0.483791\n",
      "[71]\tvalid_0's multi_logloss: 0.481899\n",
      "[72]\tvalid_0's multi_logloss: 0.480717\n",
      "[73]\tvalid_0's multi_logloss: 0.483022\n",
      "[74]\tvalid_0's multi_logloss: 0.483834\n",
      "[75]\tvalid_0's multi_logloss: 0.482427\n",
      "[76]\tvalid_0's multi_logloss: 0.482281\n",
      "[77]\tvalid_0's multi_logloss: 0.481478\n",
      "Early stopping, best iteration is:\n",
      "[72]\tvalid_0's multi_logloss: 0.480717\n"
     ]
    },
    {
     "name": "stderr",
     "output_type": "stream",
     "text": [
      "/home/yoshitaka-i/anaconda3/envs/py36/lib/python3.6/site-packages/sklearn/preprocessing/label.py:151: DeprecationWarning: The truth value of an empty array is ambiguous. Returning False, but in future this will result in an error. Use `array.size > 0` to check that an array is not empty.\n",
      "  if diff:\n"
     ]
    },
    {
     "data": {
      "text/plain": [
       "0.8095238095238095"
      ]
     },
     "execution_count": 9,
     "metadata": {},
     "output_type": "execute_result"
    }
   ],
   "source": [
    "gbm = lgb.LGBMClassifier(\n",
    "    objective='multiclass',\n",
    "    device = 'gpu'\n",
    ")\n",
    "\n",
    "gbm.fit(\n",
    "    X_train, \n",
    "    y_train,\n",
    "    eval_set=[(X_test, y_test)],\n",
    "    early_stopping_rounds=5\n",
    ")\n",
    "\n",
    "pickle.dump(gbm, open('../model/lgbm_HCD45_pos.sav', 'wb'))\n",
    "gbm.score(X_test, y_test)"
   ]
  },
  {
   "cell_type": "code",
   "execution_count": null,
   "metadata": {},
   "outputs": [],
   "source": []
  },
  {
   "cell_type": "code",
   "execution_count": 10,
   "metadata": {},
   "outputs": [],
   "source": [
    "with open('../data/HCD65_pos.pickle', mode='rb') as fp:\n",
    "    df = pickle.load(fp)"
   ]
  },
  {
   "cell_type": "code",
   "execution_count": 11,
   "metadata": {},
   "outputs": [],
   "source": [
    "objective = df.Subclass\n",
    "le = preprocessing.LabelEncoder()\n",
    "objective = le.fit_transform(objective)\n",
    "\n",
    "features = df.drop('Subclass', axis=1)"
   ]
  },
  {
   "cell_type": "code",
   "execution_count": 12,
   "metadata": {},
   "outputs": [],
   "source": [
    "random_state=np.random.seed(42)\n",
    "X_train, X_test, y_train, y_test = train_test_split(\n",
    "    features, \n",
    "    objective,\n",
    "    test_size=0.2\n",
    ")"
   ]
  },
  {
   "cell_type": "code",
   "execution_count": 13,
   "metadata": {
    "scrolled": true
   },
   "outputs": [
    {
     "name": "stdout",
     "output_type": "stream",
     "text": [
      "[1]\tvalid_0's multi_logloss: 1.2955\n",
      "Training until validation scores don't improve for 5 rounds.\n",
      "[2]\tvalid_0's multi_logloss: 1.22148\n",
      "[3]\tvalid_0's multi_logloss: 1.16028\n",
      "[4]\tvalid_0's multi_logloss: 1.10455\n",
      "[5]\tvalid_0's multi_logloss: 1.05653\n",
      "[6]\tvalid_0's multi_logloss: 1.01408\n",
      "[7]\tvalid_0's multi_logloss: 0.970687\n",
      "[8]\tvalid_0's multi_logloss: 0.933948\n",
      "[9]\tvalid_0's multi_logloss: 0.903149\n",
      "[10]\tvalid_0's multi_logloss: 0.872588\n",
      "[11]\tvalid_0's multi_logloss: 0.845089\n",
      "[12]\tvalid_0's multi_logloss: 0.823529\n",
      "[13]\tvalid_0's multi_logloss: 0.80222\n",
      "[14]\tvalid_0's multi_logloss: 0.7806\n",
      "[15]\tvalid_0's multi_logloss: 0.760274\n",
      "[16]\tvalid_0's multi_logloss: 0.745315\n",
      "[17]\tvalid_0's multi_logloss: 0.730845\n",
      "[18]\tvalid_0's multi_logloss: 0.715718\n",
      "[19]\tvalid_0's multi_logloss: 0.702785\n",
      "[20]\tvalid_0's multi_logloss: 0.691343\n",
      "[21]\tvalid_0's multi_logloss: 0.676817\n",
      "[22]\tvalid_0's multi_logloss: 0.666412\n",
      "[23]\tvalid_0's multi_logloss: 0.654501\n",
      "[24]\tvalid_0's multi_logloss: 0.64712\n",
      "[25]\tvalid_0's multi_logloss: 0.638253\n",
      "[26]\tvalid_0's multi_logloss: 0.630145\n",
      "[27]\tvalid_0's multi_logloss: 0.622352\n",
      "[28]\tvalid_0's multi_logloss: 0.613933\n",
      "[29]\tvalid_0's multi_logloss: 0.606282\n",
      "[30]\tvalid_0's multi_logloss: 0.603053\n",
      "[31]\tvalid_0's multi_logloss: 0.596243\n",
      "[32]\tvalid_0's multi_logloss: 0.591065\n",
      "[33]\tvalid_0's multi_logloss: 0.584426\n",
      "[34]\tvalid_0's multi_logloss: 0.579866\n",
      "[35]\tvalid_0's multi_logloss: 0.576001\n",
      "[36]\tvalid_0's multi_logloss: 0.571334\n",
      "[37]\tvalid_0's multi_logloss: 0.567097\n",
      "[38]\tvalid_0's multi_logloss: 0.563106\n",
      "[39]\tvalid_0's multi_logloss: 0.559502\n",
      "[40]\tvalid_0's multi_logloss: 0.554316\n",
      "[41]\tvalid_0's multi_logloss: 0.549687\n",
      "[42]\tvalid_0's multi_logloss: 0.546308\n",
      "[43]\tvalid_0's multi_logloss: 0.544644\n",
      "[44]\tvalid_0's multi_logloss: 0.543282\n",
      "[45]\tvalid_0's multi_logloss: 0.540363\n",
      "[46]\tvalid_0's multi_logloss: 0.536628\n",
      "[47]\tvalid_0's multi_logloss: 0.534135\n",
      "[48]\tvalid_0's multi_logloss: 0.532926\n",
      "[49]\tvalid_0's multi_logloss: 0.529758\n",
      "[50]\tvalid_0's multi_logloss: 0.528753\n",
      "[51]\tvalid_0's multi_logloss: 0.528489\n",
      "[52]\tvalid_0's multi_logloss: 0.525443\n",
      "[53]\tvalid_0's multi_logloss: 0.522638\n",
      "[54]\tvalid_0's multi_logloss: 0.523001\n",
      "[55]\tvalid_0's multi_logloss: 0.52244\n",
      "[56]\tvalid_0's multi_logloss: 0.52122\n",
      "[57]\tvalid_0's multi_logloss: 0.520465\n",
      "[58]\tvalid_0's multi_logloss: 0.521315\n",
      "[59]\tvalid_0's multi_logloss: 0.51883\n",
      "[60]\tvalid_0's multi_logloss: 0.519213\n",
      "[61]\tvalid_0's multi_logloss: 0.517494\n",
      "[62]\tvalid_0's multi_logloss: 0.517675\n",
      "[63]\tvalid_0's multi_logloss: 0.517308\n",
      "[64]\tvalid_0's multi_logloss: 0.51708\n",
      "[65]\tvalid_0's multi_logloss: 0.51544\n",
      "[66]\tvalid_0's multi_logloss: 0.513472\n",
      "[67]\tvalid_0's multi_logloss: 0.512716\n",
      "[68]\tvalid_0's multi_logloss: 0.511086\n",
      "[69]\tvalid_0's multi_logloss: 0.511472\n",
      "[70]\tvalid_0's multi_logloss: 0.50882\n",
      "[71]\tvalid_0's multi_logloss: 0.508036\n",
      "[72]\tvalid_0's multi_logloss: 0.506503\n",
      "[73]\tvalid_0's multi_logloss: 0.506086\n",
      "[74]\tvalid_0's multi_logloss: 0.505352\n",
      "[75]\tvalid_0's multi_logloss: 0.505135\n",
      "[76]\tvalid_0's multi_logloss: 0.504174\n",
      "[77]\tvalid_0's multi_logloss: 0.504482\n",
      "[78]\tvalid_0's multi_logloss: 0.50658\n",
      "[79]\tvalid_0's multi_logloss: 0.507867\n",
      "[80]\tvalid_0's multi_logloss: 0.506154\n",
      "[81]\tvalid_0's multi_logloss: 0.507228\n",
      "Early stopping, best iteration is:\n",
      "[76]\tvalid_0's multi_logloss: 0.504174\n"
     ]
    },
    {
     "name": "stderr",
     "output_type": "stream",
     "text": [
      "/home/yoshitaka-i/anaconda3/envs/py36/lib/python3.6/site-packages/sklearn/preprocessing/label.py:151: DeprecationWarning: The truth value of an empty array is ambiguous. Returning False, but in future this will result in an error. Use `array.size > 0` to check that an array is not empty.\n",
      "  if diff:\n"
     ]
    },
    {
     "data": {
      "text/plain": [
       "0.8005952380952381"
      ]
     },
     "execution_count": 13,
     "metadata": {},
     "output_type": "execute_result"
    }
   ],
   "source": [
    "gbm = lgb.LGBMClassifier(\n",
    "    objective='multiclass',\n",
    "    device = 'gpu'\n",
    ")\n",
    "\n",
    "gbm.fit(\n",
    "    X_train, \n",
    "    y_train,\n",
    "    eval_set=[(X_test, y_test)],\n",
    "    early_stopping_rounds=5\n",
    ")\n",
    "\n",
    "pickle.dump(gbm, open('../model/lgbm_HCD65_pos.sav', 'wb'))\n",
    "gbm.score(X_test, y_test)"
   ]
  },
  {
   "cell_type": "code",
   "execution_count": null,
   "metadata": {},
   "outputs": [],
   "source": []
  },
  {
   "cell_type": "code",
   "execution_count": 14,
   "metadata": {},
   "outputs": [],
   "source": [
    "with open('../data/HCD35_neg.pickle', mode='rb') as fp:\n",
    "    df = pickle.load(fp)"
   ]
  },
  {
   "cell_type": "code",
   "execution_count": 15,
   "metadata": {},
   "outputs": [],
   "source": [
    "objective = df.Subclass\n",
    "le = preprocessing.LabelEncoder()\n",
    "objective = le.fit_transform(objective)\n",
    "\n",
    "features = df.drop('Subclass', axis=1)"
   ]
  },
  {
   "cell_type": "code",
   "execution_count": 16,
   "metadata": {},
   "outputs": [],
   "source": [
    "random_state=np.random.seed(42)\n",
    "X_train, X_test, y_train, y_test = train_test_split(\n",
    "    features, \n",
    "    objective,\n",
    "    test_size=0.2\n",
    ")"
   ]
  },
  {
   "cell_type": "code",
   "execution_count": 17,
   "metadata": {
    "scrolled": true
   },
   "outputs": [
    {
     "name": "stdout",
     "output_type": "stream",
     "text": [
      "[1]\tvalid_0's multi_logloss: 1.30137\n",
      "Training until validation scores don't improve for 5 rounds.\n",
      "[2]\tvalid_0's multi_logloss: 1.22335\n",
      "[3]\tvalid_0's multi_logloss: 1.15893\n",
      "[4]\tvalid_0's multi_logloss: 1.09947\n",
      "[5]\tvalid_0's multi_logloss: 1.04987\n",
      "[6]\tvalid_0's multi_logloss: 1.01132\n",
      "[7]\tvalid_0's multi_logloss: 0.977166\n",
      "[8]\tvalid_0's multi_logloss: 0.949006\n",
      "[9]\tvalid_0's multi_logloss: 0.923959\n",
      "[10]\tvalid_0's multi_logloss: 0.902713\n",
      "[11]\tvalid_0's multi_logloss: 0.880888\n",
      "[12]\tvalid_0's multi_logloss: 0.861254\n",
      "[13]\tvalid_0's multi_logloss: 0.840925\n",
      "[14]\tvalid_0's multi_logloss: 0.82072\n",
      "[15]\tvalid_0's multi_logloss: 0.805414\n",
      "[16]\tvalid_0's multi_logloss: 0.788837\n",
      "[17]\tvalid_0's multi_logloss: 0.776483\n",
      "[18]\tvalid_0's multi_logloss: 0.765688\n",
      "[19]\tvalid_0's multi_logloss: 0.754473\n",
      "[20]\tvalid_0's multi_logloss: 0.740819\n",
      "[21]\tvalid_0's multi_logloss: 0.732193\n",
      "[22]\tvalid_0's multi_logloss: 0.725243\n",
      "[23]\tvalid_0's multi_logloss: 0.713797\n",
      "[24]\tvalid_0's multi_logloss: 0.706519\n",
      "[25]\tvalid_0's multi_logloss: 0.702215\n",
      "[26]\tvalid_0's multi_logloss: 0.697377\n",
      "[27]\tvalid_0's multi_logloss: 0.686079\n",
      "[28]\tvalid_0's multi_logloss: 0.682948\n",
      "[29]\tvalid_0's multi_logloss: 0.677807\n",
      "[30]\tvalid_0's multi_logloss: 0.668912\n",
      "[31]\tvalid_0's multi_logloss: 0.66277\n",
      "[32]\tvalid_0's multi_logloss: 0.656822\n",
      "[33]\tvalid_0's multi_logloss: 0.655483\n",
      "[34]\tvalid_0's multi_logloss: 0.652456\n",
      "[35]\tvalid_0's multi_logloss: 0.646267\n",
      "[36]\tvalid_0's multi_logloss: 0.640706\n",
      "[37]\tvalid_0's multi_logloss: 0.634586\n",
      "[38]\tvalid_0's multi_logloss: 0.637625\n",
      "[39]\tvalid_0's multi_logloss: 0.633045\n",
      "[40]\tvalid_0's multi_logloss: 0.628477\n",
      "[41]\tvalid_0's multi_logloss: 0.625712\n",
      "[42]\tvalid_0's multi_logloss: 0.622677\n",
      "[43]\tvalid_0's multi_logloss: 0.621647\n",
      "[44]\tvalid_0's multi_logloss: 0.618519\n",
      "[45]\tvalid_0's multi_logloss: 0.614495\n",
      "[46]\tvalid_0's multi_logloss: 0.613084\n",
      "[47]\tvalid_0's multi_logloss: 0.606358\n",
      "[48]\tvalid_0's multi_logloss: 0.607751\n",
      "[49]\tvalid_0's multi_logloss: 0.609917\n",
      "[50]\tvalid_0's multi_logloss: 0.606708\n",
      "[51]\tvalid_0's multi_logloss: 0.603581\n",
      "[52]\tvalid_0's multi_logloss: 0.602656\n",
      "[53]\tvalid_0's multi_logloss: 0.598651\n",
      "[54]\tvalid_0's multi_logloss: 0.596282\n",
      "[55]\tvalid_0's multi_logloss: 0.595112\n",
      "[56]\tvalid_0's multi_logloss: 0.59336\n",
      "[57]\tvalid_0's multi_logloss: 0.596546\n",
      "[58]\tvalid_0's multi_logloss: 0.59438\n",
      "[59]\tvalid_0's multi_logloss: 0.598778\n",
      "[60]\tvalid_0's multi_logloss: 0.600811\n",
      "[61]\tvalid_0's multi_logloss: 0.60016\n",
      "Early stopping, best iteration is:\n",
      "[56]\tvalid_0's multi_logloss: 0.59336\n"
     ]
    },
    {
     "name": "stderr",
     "output_type": "stream",
     "text": [
      "/home/yoshitaka-i/anaconda3/envs/py36/lib/python3.6/site-packages/sklearn/preprocessing/label.py:151: DeprecationWarning: The truth value of an empty array is ambiguous. Returning False, but in future this will result in an error. Use `array.size > 0` to check that an array is not empty.\n",
      "  if diff:\n"
     ]
    },
    {
     "data": {
      "text/plain": [
       "0.7340425531914894"
      ]
     },
     "execution_count": 17,
     "metadata": {},
     "output_type": "execute_result"
    }
   ],
   "source": [
    "gbm = lgb.LGBMClassifier(\n",
    "    objective='multiclass',\n",
    "    device = 'gpu'\n",
    ")\n",
    "\n",
    "gbm.fit(\n",
    "    X_train, \n",
    "    y_train,\n",
    "    eval_set=[(X_test, y_test)],\n",
    "    early_stopping_rounds=5\n",
    ")\n",
    "\n",
    "pickle.dump(gbm, open('../model/lgbm_HCD35_neg.sav', 'wb'))\n",
    "gbm.score(X_test, y_test)"
   ]
  },
  {
   "cell_type": "code",
   "execution_count": null,
   "metadata": {},
   "outputs": [],
   "source": []
  },
  {
   "cell_type": "code",
   "execution_count": 18,
   "metadata": {},
   "outputs": [],
   "source": [
    "with open('../data/HCD45_neg.pickle', mode='rb') as fp:\n",
    "    df = pickle.load(fp)"
   ]
  },
  {
   "cell_type": "code",
   "execution_count": 19,
   "metadata": {},
   "outputs": [],
   "source": [
    "objective = df.Subclass\n",
    "le = preprocessing.LabelEncoder()\n",
    "objective = le.fit_transform(objective)\n",
    "\n",
    "features = df.drop('Subclass', axis=1)"
   ]
  },
  {
   "cell_type": "code",
   "execution_count": 20,
   "metadata": {},
   "outputs": [],
   "source": [
    "random_state=np.random.seed(42)\n",
    "X_train, X_test, y_train, y_test = train_test_split(\n",
    "    features, \n",
    "    objective,\n",
    "    test_size=0.2\n",
    ")"
   ]
  },
  {
   "cell_type": "code",
   "execution_count": 21,
   "metadata": {
    "scrolled": true
   },
   "outputs": [
    {
     "name": "stdout",
     "output_type": "stream",
     "text": [
      "[1]\tvalid_0's multi_logloss: 1.30728\n",
      "Training until validation scores don't improve for 5 rounds.\n",
      "[2]\tvalid_0's multi_logloss: 1.24428\n",
      "[3]\tvalid_0's multi_logloss: 1.19091\n",
      "[4]\tvalid_0's multi_logloss: 1.14783\n",
      "[5]\tvalid_0's multi_logloss: 1.1074\n",
      "[6]\tvalid_0's multi_logloss: 1.07527\n",
      "[7]\tvalid_0's multi_logloss: 1.04467\n",
      "[8]\tvalid_0's multi_logloss: 1.01698\n",
      "[9]\tvalid_0's multi_logloss: 0.996891\n",
      "[10]\tvalid_0's multi_logloss: 0.975175\n",
      "[11]\tvalid_0's multi_logloss: 0.948407\n",
      "[12]\tvalid_0's multi_logloss: 0.927498\n",
      "[13]\tvalid_0's multi_logloss: 0.908311\n",
      "[14]\tvalid_0's multi_logloss: 0.890493\n",
      "[15]\tvalid_0's multi_logloss: 0.873985\n",
      "[16]\tvalid_0's multi_logloss: 0.85858\n",
      "[17]\tvalid_0's multi_logloss: 0.842083\n",
      "[18]\tvalid_0's multi_logloss: 0.833356\n",
      "[19]\tvalid_0's multi_logloss: 0.822355\n",
      "[20]\tvalid_0's multi_logloss: 0.81439\n",
      "[21]\tvalid_0's multi_logloss: 0.804167\n",
      "[22]\tvalid_0's multi_logloss: 0.796092\n",
      "[23]\tvalid_0's multi_logloss: 0.787137\n",
      "[24]\tvalid_0's multi_logloss: 0.779775\n",
      "[25]\tvalid_0's multi_logloss: 0.774691\n",
      "[26]\tvalid_0's multi_logloss: 0.766902\n",
      "[27]\tvalid_0's multi_logloss: 0.760744\n",
      "[28]\tvalid_0's multi_logloss: 0.754212\n",
      "[29]\tvalid_0's multi_logloss: 0.746748\n",
      "[30]\tvalid_0's multi_logloss: 0.74004\n",
      "[31]\tvalid_0's multi_logloss: 0.735849\n",
      "[32]\tvalid_0's multi_logloss: 0.728981\n",
      "[33]\tvalid_0's multi_logloss: 0.724907\n",
      "[34]\tvalid_0's multi_logloss: 0.716091\n",
      "[35]\tvalid_0's multi_logloss: 0.711411\n",
      "[36]\tvalid_0's multi_logloss: 0.707786\n",
      "[37]\tvalid_0's multi_logloss: 0.702378\n",
      "[38]\tvalid_0's multi_logloss: 0.702378\n",
      "[39]\tvalid_0's multi_logloss: 0.697708\n",
      "[40]\tvalid_0's multi_logloss: 0.694965\n",
      "[41]\tvalid_0's multi_logloss: 0.691634\n",
      "[42]\tvalid_0's multi_logloss: 0.691264\n",
      "[43]\tvalid_0's multi_logloss: 0.686812\n",
      "[44]\tvalid_0's multi_logloss: 0.686733\n",
      "[45]\tvalid_0's multi_logloss: 0.686954\n",
      "[46]\tvalid_0's multi_logloss: 0.685817\n",
      "[47]\tvalid_0's multi_logloss: 0.683087\n",
      "[48]\tvalid_0's multi_logloss: 0.677288\n",
      "[49]\tvalid_0's multi_logloss: 0.675087\n",
      "[50]\tvalid_0's multi_logloss: 0.673837\n",
      "[51]\tvalid_0's multi_logloss: 0.672398\n",
      "[52]\tvalid_0's multi_logloss: 0.671542\n",
      "[53]\tvalid_0's multi_logloss: 0.669867\n",
      "[54]\tvalid_0's multi_logloss: 0.670097\n",
      "[55]\tvalid_0's multi_logloss: 0.67139\n",
      "[56]\tvalid_0's multi_logloss: 0.670925\n",
      "[57]\tvalid_0's multi_logloss: 0.672174\n",
      "[58]\tvalid_0's multi_logloss: 0.671708\n",
      "Early stopping, best iteration is:\n",
      "[53]\tvalid_0's multi_logloss: 0.669867\n"
     ]
    },
    {
     "name": "stderr",
     "output_type": "stream",
     "text": [
      "/home/yoshitaka-i/anaconda3/envs/py36/lib/python3.6/site-packages/sklearn/preprocessing/label.py:151: DeprecationWarning: The truth value of an empty array is ambiguous. Returning False, but in future this will result in an error. Use `array.size > 0` to check that an array is not empty.\n",
      "  if diff:\n"
     ]
    },
    {
     "data": {
      "text/plain": [
       "0.723404255319149"
      ]
     },
     "execution_count": 21,
     "metadata": {},
     "output_type": "execute_result"
    }
   ],
   "source": [
    "gbm = lgb.LGBMClassifier(\n",
    "    objective='multiclass',\n",
    "    device = 'gpu'\n",
    ")\n",
    "\n",
    "gbm.fit(\n",
    "    X_train, \n",
    "    y_train,\n",
    "    eval_set=[(X_test, y_test)],\n",
    "    early_stopping_rounds=5\n",
    ")\n",
    "\n",
    "pickle.dump(gbm, open('../model/lgbm_HCD45_neg.sav', 'wb'))\n",
    "gbm.score(X_test, y_test)"
   ]
  },
  {
   "cell_type": "code",
   "execution_count": null,
   "metadata": {},
   "outputs": [],
   "source": []
  },
  {
   "cell_type": "code",
   "execution_count": 22,
   "metadata": {},
   "outputs": [],
   "source": [
    "with open('../data/HCD65_neg.pickle', mode='rb') as fp:\n",
    "    df = pickle.load(fp)"
   ]
  },
  {
   "cell_type": "code",
   "execution_count": 23,
   "metadata": {},
   "outputs": [],
   "source": [
    "objective = df.Subclass\n",
    "le = preprocessing.LabelEncoder()\n",
    "objective = le.fit_transform(objective)\n",
    "\n",
    "features = df.drop('Subclass', axis=1)"
   ]
  },
  {
   "cell_type": "code",
   "execution_count": 24,
   "metadata": {},
   "outputs": [],
   "source": [
    "random_state=np.random.seed(42)\n",
    "X_train, X_test, y_train, y_test = train_test_split(\n",
    "    features, \n",
    "    objective,\n",
    "    test_size=0.2\n",
    ")"
   ]
  },
  {
   "cell_type": "code",
   "execution_count": 25,
   "metadata": {
    "scrolled": true
   },
   "outputs": [
    {
     "name": "stdout",
     "output_type": "stream",
     "text": [
      "[1]\tvalid_0's multi_logloss: 1.31383\n",
      "Training until validation scores don't improve for 5 rounds.\n",
      "[2]\tvalid_0's multi_logloss: 1.25405\n",
      "[3]\tvalid_0's multi_logloss: 1.20084\n",
      "[4]\tvalid_0's multi_logloss: 1.15406\n",
      "[5]\tvalid_0's multi_logloss: 1.1178\n",
      "[6]\tvalid_0's multi_logloss: 1.0844\n",
      "[7]\tvalid_0's multi_logloss: 1.05432\n",
      "[8]\tvalid_0's multi_logloss: 1.02851\n",
      "[9]\tvalid_0's multi_logloss: 1.00402\n",
      "[10]\tvalid_0's multi_logloss: 0.980917\n",
      "[11]\tvalid_0's multi_logloss: 0.959213\n",
      "[12]\tvalid_0's multi_logloss: 0.947037\n",
      "[13]\tvalid_0's multi_logloss: 0.93271\n",
      "[14]\tvalid_0's multi_logloss: 0.92061\n",
      "[15]\tvalid_0's multi_logloss: 0.909448\n",
      "[16]\tvalid_0's multi_logloss: 0.895203\n",
      "[17]\tvalid_0's multi_logloss: 0.885169\n",
      "[18]\tvalid_0's multi_logloss: 0.87417\n",
      "[19]\tvalid_0's multi_logloss: 0.86671\n",
      "[20]\tvalid_0's multi_logloss: 0.86169\n",
      "[21]\tvalid_0's multi_logloss: 0.856482\n",
      "[22]\tvalid_0's multi_logloss: 0.849996\n",
      "[23]\tvalid_0's multi_logloss: 0.844023\n",
      "[24]\tvalid_0's multi_logloss: 0.83711\n",
      "[25]\tvalid_0's multi_logloss: 0.833033\n",
      "[26]\tvalid_0's multi_logloss: 0.828596\n",
      "[27]\tvalid_0's multi_logloss: 0.823432\n",
      "[28]\tvalid_0's multi_logloss: 0.818749\n",
      "[29]\tvalid_0's multi_logloss: 0.814332\n",
      "[30]\tvalid_0's multi_logloss: 0.81067\n",
      "[31]\tvalid_0's multi_logloss: 0.807429\n",
      "[32]\tvalid_0's multi_logloss: 0.803797\n",
      "[33]\tvalid_0's multi_logloss: 0.803622\n",
      "[34]\tvalid_0's multi_logloss: 0.798525\n",
      "[35]\tvalid_0's multi_logloss: 0.794464\n",
      "[36]\tvalid_0's multi_logloss: 0.792116\n",
      "[37]\tvalid_0's multi_logloss: 0.792545\n",
      "[38]\tvalid_0's multi_logloss: 0.790446\n",
      "[39]\tvalid_0's multi_logloss: 0.787282\n",
      "[40]\tvalid_0's multi_logloss: 0.786193\n",
      "[41]\tvalid_0's multi_logloss: 0.785058\n",
      "[42]\tvalid_0's multi_logloss: 0.781322\n",
      "[43]\tvalid_0's multi_logloss: 0.778424\n",
      "[44]\tvalid_0's multi_logloss: 0.779526\n",
      "[45]\tvalid_0's multi_logloss: 0.777306\n",
      "[46]\tvalid_0's multi_logloss: 0.77608\n",
      "[47]\tvalid_0's multi_logloss: 0.77733\n",
      "[48]\tvalid_0's multi_logloss: 0.774024\n",
      "[49]\tvalid_0's multi_logloss: 0.773427\n",
      "[50]\tvalid_0's multi_logloss: 0.773374\n",
      "[51]\tvalid_0's multi_logloss: 0.771243\n",
      "[52]\tvalid_0's multi_logloss: 0.769969\n",
      "[53]\tvalid_0's multi_logloss: 0.772432\n",
      "[54]\tvalid_0's multi_logloss: 0.77433\n",
      "[55]\tvalid_0's multi_logloss: 0.772603\n",
      "[56]\tvalid_0's multi_logloss: 0.774467\n",
      "[57]\tvalid_0's multi_logloss: 0.776084\n",
      "Early stopping, best iteration is:\n",
      "[52]\tvalid_0's multi_logloss: 0.769969\n"
     ]
    },
    {
     "name": "stderr",
     "output_type": "stream",
     "text": [
      "/home/yoshitaka-i/anaconda3/envs/py36/lib/python3.6/site-packages/sklearn/preprocessing/label.py:151: DeprecationWarning: The truth value of an empty array is ambiguous. Returning False, but in future this will result in an error. Use `array.size > 0` to check that an array is not empty.\n",
      "  if diff:\n"
     ]
    },
    {
     "data": {
      "text/plain": [
       "0.6808510638297872"
      ]
     },
     "execution_count": 25,
     "metadata": {},
     "output_type": "execute_result"
    }
   ],
   "source": [
    "gbm = lgb.LGBMClassifier(\n",
    "    objective='multiclass',\n",
    "    device = 'gpu'\n",
    ")\n",
    "\n",
    "gbm.fit(\n",
    "    X_train, \n",
    "    y_train,\n",
    "    eval_set=[(X_test, y_test)],\n",
    "    early_stopping_rounds=5\n",
    ")\n",
    "\n",
    "pickle.dump(gbm, open('../model/lgbm_HCD65_neg.sav', 'wb'))\n",
    "gbm.score(X_test, y_test)"
   ]
  }
 ],
 "metadata": {
  "kernelspec": {
   "display_name": "py36",
   "language": "python",
   "name": "py36"
  },
  "language_info": {
   "codemirror_mode": {
    "name": "ipython",
    "version": 3
   },
   "file_extension": ".py",
   "mimetype": "text/x-python",
   "name": "python",
   "nbconvert_exporter": "python",
   "pygments_lexer": "ipython3",
   "version": "3.6.5"
  }
 },
 "nbformat": 4,
 "nbformat_minor": 2
}
