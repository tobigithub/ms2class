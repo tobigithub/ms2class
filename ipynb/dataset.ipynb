{
 "cells": [
  {
   "cell_type": "code",
   "execution_count": 1,
   "metadata": {},
   "outputs": [],
   "source": [
    "import numpy as np\n",
    "import pandas as pd\n",
    "import pickle"
   ]
  },
  {
   "cell_type": "markdown",
   "metadata": {},
   "source": [
    "### read csv"
   ]
  },
  {
   "cell_type": "code",
   "execution_count": 2,
   "metadata": {},
   "outputs": [],
   "source": [
    "pos = pd.read_csv('../csv/pos_for_ml.csv', index_col=0)\n",
    "neg = pd.read_csv('../csv/neg_for_ml.csv', index_col=0)"
   ]
  },
  {
   "cell_type": "code",
   "execution_count": 3,
   "metadata": {},
   "outputs": [],
   "source": [
    "subclass = pos['Subclass'].value_counts()[:4].index\n",
    "df_pos = pos[pos['Subclass'].isin(subclass)].reset_index(drop=True)\n",
    "\n",
    "subclass = neg['Subclass'].value_counts()[:4].index\n",
    "df_neg = neg[neg['Subclass'].isin(subclass)].reset_index(drop=True)"
   ]
  },
  {
   "cell_type": "markdown",
   "metadata": {},
   "source": [
    "### get all m/z and intensity from dataset"
   ]
  },
  {
   "cell_type": "code",
   "execution_count": 4,
   "metadata": {},
   "outputs": [],
   "source": [
    "f = []\n",
    "for p in df_pos['35 HCD']:\n",
    "    w = dict()\n",
    "    for i in p.split(' '):\n",
    "        i=i.split(':')\n",
    "        if len(i) == 2:\n",
    "            w[round(float(i[0]), 2)] = round(float(i[1]), 2)\n",
    "    f.append(w)\n",
    "    \n",
    "t = pd.DataFrame(f).fillna(0)\n",
    "t.columns = ['HCD35_'+str(i) for i in t.columns]\n",
    "t.to_pickle('../data/HCD35_pos.pickle')"
   ]
  },
  {
   "cell_type": "code",
   "execution_count": 5,
   "metadata": {
    "scrolled": true
   },
   "outputs": [],
   "source": [
    "f = []\n",
    "for p in df_pos['45 HCD']:\n",
    "    w = dict()\n",
    "    for i in p.split(' '):\n",
    "        i=i.split(':')\n",
    "        if len(i) == 2:\n",
    "            w[round(float(i[0]), 2)] = round(float(i[1]), 2)\n",
    "    f.append(w)\n",
    "    \n",
    "h = pd.DataFrame(f).fillna(0)\n",
    "h.columns = ['HCD45_'+str(i) for i in h.columns]    \n",
    "h.to_pickle('../data/HCD45_pos.pickle')"
   ]
  },
  {
   "cell_type": "code",
   "execution_count": 6,
   "metadata": {
    "scrolled": true
   },
   "outputs": [],
   "source": [
    "f = []\n",
    "for p in df_pos['65 HCD']:\n",
    "    w = dict()\n",
    "    for i in p.split(' '):\n",
    "        i=i.split(':')\n",
    "        if len(i) == 2:\n",
    "            w[round(float(i[0]), 2)] = round(float(i[1]), 2)\n",
    "    f.append(w)\n",
    "    \n",
    "y = pd.DataFrame(f).fillna(0)\n",
    "y.columns = ['HCD65_'+str(i) for i in y.columns]    \n",
    "y.to_pickle('../data/HCD65_pos.pickle')"
   ]
  },
  {
   "cell_type": "code",
   "execution_count": null,
   "metadata": {},
   "outputs": [],
   "source": []
  },
  {
   "cell_type": "code",
   "execution_count": 7,
   "metadata": {},
   "outputs": [],
   "source": [
    "f = []\n",
    "for p in df_neg['35 HCD']:\n",
    "    w = dict()\n",
    "    for i in p.split(' '):\n",
    "        i=i.split(':')\n",
    "        if len(i) == 2:\n",
    "            w[round(float(i[0]), 2)] = round(float(i[1]), 2)\n",
    "    f.append(w)\n",
    "    \n",
    "t = pd.DataFrame(f).fillna(0)\n",
    "t.columns = ['HCD35_'+str(i) for i in t.columns]    \n",
    "t.to_pickle('../data/HCD35_neg.pickle')"
   ]
  },
  {
   "cell_type": "code",
   "execution_count": 8,
   "metadata": {
    "scrolled": true
   },
   "outputs": [],
   "source": [
    "f = []\n",
    "for p in df_neg['45 HCD']:\n",
    "    w = dict()\n",
    "    for i in p.split(' '):\n",
    "        i=i.split(':')\n",
    "        if len(i) == 2:\n",
    "            w[round(float(i[0]), 2)] = round(float(i[1]), 2)\n",
    "    f.append(w)\n",
    "    \n",
    "h = pd.DataFrame(f).fillna(0)\n",
    "h.columns = ['HCD45_'+str(i) for i in h.columns]    \n",
    "h.to_pickle('../data/HCD45_neg.pickle')"
   ]
  },
  {
   "cell_type": "code",
   "execution_count": 9,
   "metadata": {
    "scrolled": true
   },
   "outputs": [],
   "source": [
    "f = []\n",
    "for p in df_neg['65 HCD']:\n",
    "    w = dict()\n",
    "    for i in p.split(' '):\n",
    "        i=i.split(':')\n",
    "        if len(i) == 2:\n",
    "            w[round(float(i[0]), 2)] = round(float(i[1]), 2)\n",
    "    f.append(w)\n",
    "    \n",
    "y = pd.DataFrame(f).fillna(0)\n",
    "y.columns = ['HCD65_'+str(i) for i in y.columns]    \n",
    "y.to_pickle('../data/HCD65_pos.pickle')"
   ]
  }
 ],
 "metadata": {
  "kernelspec": {
   "display_name": "Python 3",
   "language": "python",
   "name": "python3"
  },
  "language_info": {
   "codemirror_mode": {
    "name": "ipython",
    "version": 3
   },
   "file_extension": ".py",
   "mimetype": "text/x-python",
   "name": "python",
   "nbconvert_exporter": "python",
   "pygments_lexer": "ipython3",
   "version": "3.6.5"
  }
 },
 "nbformat": 4,
 "nbformat_minor": 2
}
