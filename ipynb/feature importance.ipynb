{
 "cells": [
  {
   "cell_type": "code",
   "execution_count": 1,
   "metadata": {},
   "outputs": [],
   "source": [
    "import numpy as np\n",
    "from sklearn.preprocessing import LabelEncoder\n",
    "import pandas as pd \n",
    "import matplotlib.pyplot as plt\n",
    "from umap import UMAP\n",
    "import xgboost as xgb\n",
    "import lightgbm as lgb\n",
    "import pickle\n",
    "\n",
    "from sklearn.preprocessing import StandardScaler\n",
    "from sklearn.random_projection import GaussianRandomProjection\n",
    "from sklearn.random_projection import SparseRandomProjection\n",
    "from sklearn.decomposition import PCA, FastICA, KernelPCA\n",
    "from sklearn.decomposition import TruncatedSVD\n",
    "from sklearn.metrics import r2_score\n",
    "from sklearn.model_selection import train_test_split\n",
    "from sklearn.metrics import confusion_matrix\n",
    "from sklearn import preprocessing\n",
    "from sklearn.metrics import accuracy_score\n",
    "from sklearn.model_selection import cross_val_score\n",
    "from sklearn.metrics import mean_absolute_error\n",
    "from sklearn.model_selection import GridSearchCV\n",
    "\n",
    "from sklearn.ensemble import RandomForestClassifier as rf\n",
    "from sklearn.metrics import make_scorer\n",
    "from sklearn.model_selection import KFold"
   ]
  },
  {
   "cell_type": "code",
   "execution_count": 2,
   "metadata": {},
   "outputs": [],
   "source": [
    "with open('../data/HCD35_pos.pickle', mode='rb') as fp:\n",
    "    df_3 = pickle.load(fp)\n",
    "    \n",
    "with open('../data/HCD45_pos.pickle', mode='rb') as fp:\n",
    "    df_4 = pickle.load(fp)\n",
    "\n",
    "with open('../data/HCD65_pos.pickle', mode='rb') as fp:\n",
    "    df_6 = pickle.load(fp)"
   ]
  },
  {
   "cell_type": "code",
   "execution_count": 3,
   "metadata": {},
   "outputs": [],
   "source": [
    "objective = df_3.Subclass\n",
    "le = preprocessing.LabelEncoder()\n",
    "objective = le.fit_transform(objective)\n",
    "features = df_3.drop('Subclass', axis=1)\n",
    "\n",
    "random_state = np.random.seed(42)\n",
    "X_train, X_test, y_train, y_test = train_test_split(\n",
    "    features,\n",
    "    objective,\n",
    "    test_size=0.2\n",
    ")\n",
    "\n",
    "clf = rf()\n",
    "clf.fit(X_train, y_train)\n",
    "t = clf.feature_importances_"
   ]
  },
  {
   "cell_type": "code",
   "execution_count": 4,
   "metadata": {},
   "outputs": [],
   "source": [
    "objective = df_4.Subclass\n",
    "le = preprocessing.LabelEncoder()\n",
    "objective = le.fit_transform(objective)\n",
    "features = df_4.drop('Subclass', axis=1)\n",
    "\n",
    "random_state = np.random.seed(42)\n",
    "X_train, X_test, y_train, y_test = train_test_split(\n",
    "    features,\n",
    "    objective,\n",
    "    test_size=0.2\n",
    ")\n",
    "\n",
    "clf = rf()\n",
    "clf.fit(X_train, y_train)\n",
    "c = clf.feature_importances_"
   ]
  },
  {
   "cell_type": "code",
   "execution_count": 5,
   "metadata": {},
   "outputs": [],
   "source": [
    "objective = df_6.Subclass\n",
    "le = preprocessing.LabelEncoder()\n",
    "objective = le.fit_transform(objective)\n",
    "features = df_6.drop('Subclass', axis=1)\n",
    "\n",
    "random_state = np.random.seed(42)\n",
    "X_train, X_test, y_train, y_test = train_test_split(\n",
    "    features,\n",
    "    objective,\n",
    "    test_size=0.2\n",
    ")\n",
    "\n",
    "clf = rf()\n",
    "clf.fit(X_train, y_train)\n",
    "g = clf.feature_importances_"
   ]
  },
  {
   "cell_type": "code",
   "execution_count": 6,
   "metadata": {},
   "outputs": [],
   "source": [
    "t = pd.DataFrame(t, index=df_3.drop('Subclass', axis=1).columns).sort_values(0, ascending=False)\n",
    "c = pd.DataFrame(c, index=df_4.drop('Subclass', axis=1).columns).sort_values(0, ascending=False)\n",
    "g = pd.DataFrame(g, index=df_6.drop('Subclass', axis=1).columns).sort_values(0, ascending=False)"
   ]
  },
  {
   "cell_type": "code",
   "execution_count": 7,
   "metadata": {
    "scrolled": false
   },
   "outputs": [],
   "source": [
    "p = pd.concat([\n",
    "    df_3['Subclass'],\n",
    "    df_3[t[t[0] > t.describe()[0]['mean']].index],\n",
    "    df_4[c[c[0] > c.describe()[0]['mean']].index],\n",
    "    df_6[g[g[0] > g.describe()[0]['mean']].index]\n",
    "], axis=1)"
   ]
  },
  {
   "cell_type": "code",
   "execution_count": 8,
   "metadata": {},
   "outputs": [],
   "source": [
    "p.to_csv('../data/feature_importance.csv')"
   ]
  }
 ],
 "metadata": {
  "kernelspec": {
   "display_name": "py36",
   "language": "python",
   "name": "py36"
  },
  "language_info": {
   "codemirror_mode": {
    "name": "ipython",
    "version": 3
   },
   "file_extension": ".py",
   "mimetype": "text/x-python",
   "name": "python",
   "nbconvert_exporter": "python",
   "pygments_lexer": "ipython3",
   "version": "3.6.5"
  }
 },
 "nbformat": 4,
 "nbformat_minor": 2
}
