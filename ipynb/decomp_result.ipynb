{
 "cells": [
  {
   "cell_type": "code",
   "execution_count": 1,
   "metadata": {},
   "outputs": [],
   "source": [
    "import pickle\n",
    "import pandas as pd\n",
    "import numpy as np\n",
    "\n",
    "import xgboost as xgb\n",
    "import lightgbm as lgb\n",
    "\n",
    "from sklearn.ensemble import RandomForestClassifier as rf\n",
    "from sklearn.metrics import mean_squared_error\n",
    "from sklearn.model_selection import train_test_split\n",
    "from sklearn.metrics import confusion_matrix\n",
    "from sklearn.model_selection import GridSearchCV\n",
    "from sklearn import preprocessing"
   ]
  },
  {
   "cell_type": "code",
   "execution_count": 2,
   "metadata": {},
   "outputs": [],
   "source": [
    "df = pd.read_csv('../data/decomp_pos.csv', index_col=0)"
   ]
  },
  {
   "cell_type": "code",
   "execution_count": 3,
   "metadata": {},
   "outputs": [],
   "source": [
    "objective = df.Subclass\n",
    "le = preprocessing.LabelEncoder()\n",
    "objective = le.fit_transform(objective)\n",
    "\n",
    "features = df.drop('Subclass', axis=1)"
   ]
  },
  {
   "cell_type": "code",
   "execution_count": 4,
   "metadata": {},
   "outputs": [],
   "source": [
    "random_state=np.random.seed(42)\n",
    "X_train, X_test, y_train, y_test = train_test_split(\n",
    "    features, \n",
    "    objective,\n",
    "    test_size=0.2\n",
    ")"
   ]
  },
  {
   "cell_type": "code",
   "execution_count": 5,
   "metadata": {},
   "outputs": [
    {
     "name": "stdout",
     "output_type": "stream",
     "text": [
      "0.6815476190476191\n"
     ]
    }
   ],
   "source": [
    "clf = rf()\n",
    "clf = clf.fit(X_train, y_train)\n",
    "rf_result = clf.predict_proba(X_test)\n",
    "print(clf.score(X_test, y_test))"
   ]
  },
  {
   "cell_type": "code",
   "execution_count": 6,
   "metadata": {},
   "outputs": [],
   "source": [
    "params = {}\n",
    "params['device'] = 'gpu'\n",
    "params['gpu_id'] = 1\n",
    "params['updater'] = 'grow_gpu_hist'"
   ]
  },
  {
   "cell_type": "code",
   "execution_count": 7,
   "metadata": {
    "scrolled": true
   },
   "outputs": [
    {
     "name": "stdout",
     "output_type": "stream",
     "text": [
      "0.7886904761904762\n"
     ]
    },
    {
     "name": "stderr",
     "output_type": "stream",
     "text": [
      "/home/yoshitaka-i/anaconda3/envs/py36/lib/python3.6/site-packages/sklearn/preprocessing/label.py:151: DeprecationWarning: The truth value of an empty array is ambiguous. Returning False, but in future this will result in an error. Use `array.size > 0` to check that an array is not empty.\n",
      "  if diff:\n"
     ]
    }
   ],
   "source": [
    "model = xgb.XGBClassifier(**params)\n",
    "model.fit(X_train, y_train)\n",
    "xgb_result = model.predict_proba(X_test)\n",
    "print(model.score(X_test, y_test))"
   ]
  },
  {
   "cell_type": "code",
   "execution_count": 8,
   "metadata": {
    "scrolled": true
   },
   "outputs": [
    {
     "name": "stdout",
     "output_type": "stream",
     "text": [
      "[1]\tvalid_0's multi_logloss: 1.30385\n",
      "Training until validation scores don't improve for 5 rounds.\n",
      "[2]\tvalid_0's multi_logloss: 1.23108\n",
      "[3]\tvalid_0's multi_logloss: 1.17315\n",
      "[4]\tvalid_0's multi_logloss: 1.12015\n",
      "[5]\tvalid_0's multi_logloss: 1.07469\n",
      "[6]\tvalid_0's multi_logloss: 1.03066\n",
      "[7]\tvalid_0's multi_logloss: 0.991415\n",
      "[8]\tvalid_0's multi_logloss: 0.956772\n",
      "[9]\tvalid_0's multi_logloss: 0.922654\n",
      "[10]\tvalid_0's multi_logloss: 0.896217\n",
      "[11]\tvalid_0's multi_logloss: 0.870132\n",
      "[12]\tvalid_0's multi_logloss: 0.843763\n",
      "[13]\tvalid_0's multi_logloss: 0.821964\n",
      "[14]\tvalid_0's multi_logloss: 0.805468\n",
      "[15]\tvalid_0's multi_logloss: 0.786964\n",
      "[16]\tvalid_0's multi_logloss: 0.77158\n",
      "[17]\tvalid_0's multi_logloss: 0.753375\n",
      "[18]\tvalid_0's multi_logloss: 0.738444\n",
      "[19]\tvalid_0's multi_logloss: 0.725109\n",
      "[20]\tvalid_0's multi_logloss: 0.713107\n",
      "[21]\tvalid_0's multi_logloss: 0.702303\n",
      "[22]\tvalid_0's multi_logloss: 0.692439\n",
      "[23]\tvalid_0's multi_logloss: 0.683048\n",
      "[24]\tvalid_0's multi_logloss: 0.671808\n",
      "[25]\tvalid_0's multi_logloss: 0.662965\n",
      "[26]\tvalid_0's multi_logloss: 0.654937\n",
      "[27]\tvalid_0's multi_logloss: 0.647137\n",
      "[28]\tvalid_0's multi_logloss: 0.638619\n",
      "[29]\tvalid_0's multi_logloss: 0.631916\n",
      "[30]\tvalid_0's multi_logloss: 0.626021\n",
      "[31]\tvalid_0's multi_logloss: 0.620333\n",
      "[32]\tvalid_0's multi_logloss: 0.612838\n",
      "[33]\tvalid_0's multi_logloss: 0.607826\n",
      "[34]\tvalid_0's multi_logloss: 0.602394\n",
      "[35]\tvalid_0's multi_logloss: 0.59642\n",
      "[36]\tvalid_0's multi_logloss: 0.590297\n",
      "[37]\tvalid_0's multi_logloss: 0.584317\n",
      "[38]\tvalid_0's multi_logloss: 0.579271\n",
      "[39]\tvalid_0's multi_logloss: 0.575186\n",
      "[40]\tvalid_0's multi_logloss: 0.571183\n",
      "[41]\tvalid_0's multi_logloss: 0.566304\n",
      "[42]\tvalid_0's multi_logloss: 0.563287\n",
      "[43]\tvalid_0's multi_logloss: 0.55923\n",
      "[44]\tvalid_0's multi_logloss: 0.556439\n",
      "[45]\tvalid_0's multi_logloss: 0.554022\n",
      "[46]\tvalid_0's multi_logloss: 0.55276\n",
      "[47]\tvalid_0's multi_logloss: 0.550711\n",
      "[48]\tvalid_0's multi_logloss: 0.546708\n",
      "[49]\tvalid_0's multi_logloss: 0.545802\n",
      "[50]\tvalid_0's multi_logloss: 0.54295\n",
      "[51]\tvalid_0's multi_logloss: 0.541903\n",
      "[52]\tvalid_0's multi_logloss: 0.540039\n",
      "[53]\tvalid_0's multi_logloss: 0.538125\n",
      "[54]\tvalid_0's multi_logloss: 0.533742\n",
      "[55]\tvalid_0's multi_logloss: 0.533595\n",
      "[56]\tvalid_0's multi_logloss: 0.531648\n",
      "[57]\tvalid_0's multi_logloss: 0.529767\n",
      "[58]\tvalid_0's multi_logloss: 0.529166\n",
      "[59]\tvalid_0's multi_logloss: 0.529265\n",
      "[60]\tvalid_0's multi_logloss: 0.529339\n",
      "[61]\tvalid_0's multi_logloss: 0.529561\n",
      "[62]\tvalid_0's multi_logloss: 0.530041\n",
      "[63]\tvalid_0's multi_logloss: 0.528273\n",
      "[64]\tvalid_0's multi_logloss: 0.526777\n",
      "[65]\tvalid_0's multi_logloss: 0.525044\n",
      "[66]\tvalid_0's multi_logloss: 0.526717\n",
      "[67]\tvalid_0's multi_logloss: 0.526399\n",
      "[68]\tvalid_0's multi_logloss: 0.526858\n",
      "[69]\tvalid_0's multi_logloss: 0.525501\n",
      "[70]\tvalid_0's multi_logloss: 0.525901\n",
      "Early stopping, best iteration is:\n",
      "[65]\tvalid_0's multi_logloss: 0.525044\n",
      "0.7916666666666666\n"
     ]
    },
    {
     "name": "stderr",
     "output_type": "stream",
     "text": [
      "/home/yoshitaka-i/anaconda3/envs/py36/lib/python3.6/site-packages/sklearn/preprocessing/label.py:151: DeprecationWarning: The truth value of an empty array is ambiguous. Returning False, but in future this will result in an error. Use `array.size > 0` to check that an array is not empty.\n",
      "  if diff:\n"
     ]
    }
   ],
   "source": [
    "gbm = lgb.LGBMClassifier(\n",
    "    objective='multiclass',\n",
    "    device = 'gpu'\n",
    ")\n",
    "\n",
    "gbm.fit(\n",
    "    X_train, \n",
    "    y_train,\n",
    "    eval_set=[(X_test, y_test)],\n",
    "    early_stopping_rounds=5\n",
    ")\n",
    "\n",
    "lgb_result = gbm.predict_proba(X_test)\n",
    "print(gbm.score(X_test, y_test))"
   ]
  },
  {
   "cell_type": "code",
   "execution_count": 9,
   "metadata": {},
   "outputs": [],
   "source": [
    "o = {}"
   ]
  },
  {
   "cell_type": "code",
   "execution_count": 10,
   "metadata": {},
   "outputs": [],
   "source": [
    "o['xgb+rf'] = [round((sum(np.argmax((xgb_result+rf_result) , axis=1) == y_test)/len(y_test))*100, 2)]\n",
    "o['xgb+lgb'] = [round((sum(np.argmax((xgb_result+lgb_result) , axis=1) == y_test)/len(y_test))*100, 2)]\n",
    "o['rf+lgb'] = [round((sum(np.argmax((rf_result+lgb_result) , axis=1) == y_test)/len(y_test))*100, 2)]\n",
    "o['rf+lgb+xgb'] = [round((sum(np.argmax((xgb_result+rf_result+lgb_result) , axis=1) == y_test)/len(y_test))*100, 2)]"
   ]
  },
  {
   "cell_type": "code",
   "execution_count": 11,
   "metadata": {},
   "outputs": [
    {
     "data": {
      "text/html": [
       "<div>\n",
       "<style scoped>\n",
       "    .dataframe tbody tr th:only-of-type {\n",
       "        vertical-align: middle;\n",
       "    }\n",
       "\n",
       "    .dataframe tbody tr th {\n",
       "        vertical-align: top;\n",
       "    }\n",
       "\n",
       "    .dataframe thead th {\n",
       "        text-align: right;\n",
       "    }\n",
       "</style>\n",
       "<table border=\"1\" class=\"dataframe\">\n",
       "  <thead>\n",
       "    <tr style=\"text-align: right;\">\n",
       "      <th></th>\n",
       "      <th>0</th>\n",
       "    </tr>\n",
       "  </thead>\n",
       "  <tbody>\n",
       "    <tr>\n",
       "      <th>xgb+rf</th>\n",
       "      <td>78.27</td>\n",
       "    </tr>\n",
       "    <tr>\n",
       "      <th>xgb+lgb</th>\n",
       "      <td>79.17</td>\n",
       "    </tr>\n",
       "    <tr>\n",
       "      <th>rf+lgb</th>\n",
       "      <td>77.08</td>\n",
       "    </tr>\n",
       "    <tr>\n",
       "      <th>rf+lgb+xgb</th>\n",
       "      <td>79.46</td>\n",
       "    </tr>\n",
       "  </tbody>\n",
       "</table>\n",
       "</div>"
      ],
      "text/plain": [
       "                0\n",
       "xgb+rf      78.27\n",
       "xgb+lgb     79.17\n",
       "rf+lgb      77.08\n",
       "rf+lgb+xgb  79.46"
      ]
     },
     "execution_count": 11,
     "metadata": {},
     "output_type": "execute_result"
    }
   ],
   "source": [
    "pd.DataFrame(o).T"
   ]
  },
  {
   "cell_type": "code",
   "execution_count": null,
   "metadata": {},
   "outputs": [],
   "source": []
  },
  {
   "cell_type": "code",
   "execution_count": 12,
   "metadata": {},
   "outputs": [],
   "source": [
    "df = pd.read_csv('../data/decomp_neg.csv', index_col=0)"
   ]
  },
  {
   "cell_type": "code",
   "execution_count": 13,
   "metadata": {},
   "outputs": [],
   "source": [
    "objective = df.Subclass\n",
    "le = preprocessing.LabelEncoder()\n",
    "objective = le.fit_transform(objective)\n",
    "\n",
    "features = df.drop('Subclass', axis=1)"
   ]
  },
  {
   "cell_type": "code",
   "execution_count": 14,
   "metadata": {},
   "outputs": [],
   "source": [
    "random_state=np.random.seed(42)\n",
    "X_train, X_test, y_train, y_test = train_test_split(\n",
    "    features, \n",
    "    objective,\n",
    "    test_size=0.2\n",
    ")"
   ]
  },
  {
   "cell_type": "code",
   "execution_count": 15,
   "metadata": {},
   "outputs": [
    {
     "name": "stdout",
     "output_type": "stream",
     "text": [
      "0.5957446808510638\n"
     ]
    }
   ],
   "source": [
    "clf = rf()\n",
    "clf = clf.fit(X_train, y_train)\n",
    "rf_result = clf.predict_proba(X_test)\n",
    "print(clf.score(X_test, y_test))"
   ]
  },
  {
   "cell_type": "code",
   "execution_count": 16,
   "metadata": {},
   "outputs": [],
   "source": [
    "params = {}\n",
    "params['device'] = 'gpu'\n",
    "params['gpu_id'] = 1\n",
    "params['updater'] = 'grow_gpu_hist'"
   ]
  },
  {
   "cell_type": "code",
   "execution_count": 17,
   "metadata": {
    "scrolled": true
   },
   "outputs": [
    {
     "name": "stdout",
     "output_type": "stream",
     "text": [
      "0.7446808510638298\n"
     ]
    },
    {
     "name": "stderr",
     "output_type": "stream",
     "text": [
      "/home/yoshitaka-i/anaconda3/envs/py36/lib/python3.6/site-packages/sklearn/preprocessing/label.py:151: DeprecationWarning: The truth value of an empty array is ambiguous. Returning False, but in future this will result in an error. Use `array.size > 0` to check that an array is not empty.\n",
      "  if diff:\n"
     ]
    }
   ],
   "source": [
    "model = xgb.XGBClassifier(**params)\n",
    "model.fit(X_train, y_train)\n",
    "xgb_result = model.predict_proba(X_test)\n",
    "print(model.score(X_test, y_test))"
   ]
  },
  {
   "cell_type": "code",
   "execution_count": 18,
   "metadata": {
    "scrolled": true
   },
   "outputs": [
    {
     "name": "stdout",
     "output_type": "stream",
     "text": [
      "[1]\tvalid_0's multi_logloss: 1.29789\n",
      "Training until validation scores don't improve for 5 rounds.\n",
      "[2]\tvalid_0's multi_logloss: 1.23416\n",
      "[3]\tvalid_0's multi_logloss: 1.1783\n",
      "[4]\tvalid_0's multi_logloss: 1.1247\n",
      "[5]\tvalid_0's multi_logloss: 1.08614\n",
      "[6]\tvalid_0's multi_logloss: 1.04632\n",
      "[7]\tvalid_0's multi_logloss: 1.01259\n",
      "[8]\tvalid_0's multi_logloss: 0.979809\n",
      "[9]\tvalid_0's multi_logloss: 0.953402\n",
      "[10]\tvalid_0's multi_logloss: 0.932058\n",
      "[11]\tvalid_0's multi_logloss: 0.907093\n",
      "[12]\tvalid_0's multi_logloss: 0.88651\n",
      "[13]\tvalid_0's multi_logloss: 0.863204\n",
      "[14]\tvalid_0's multi_logloss: 0.848956\n",
      "[15]\tvalid_0's multi_logloss: 0.829107\n",
      "[16]\tvalid_0's multi_logloss: 0.814619\n",
      "[17]\tvalid_0's multi_logloss: 0.795882\n",
      "[18]\tvalid_0's multi_logloss: 0.78049\n",
      "[19]\tvalid_0's multi_logloss: 0.766839\n",
      "[20]\tvalid_0's multi_logloss: 0.755909\n",
      "[21]\tvalid_0's multi_logloss: 0.74466\n",
      "[22]\tvalid_0's multi_logloss: 0.732723\n",
      "[23]\tvalid_0's multi_logloss: 0.725083\n",
      "[24]\tvalid_0's multi_logloss: 0.714402\n",
      "[25]\tvalid_0's multi_logloss: 0.710035\n",
      "[26]\tvalid_0's multi_logloss: 0.702932\n",
      "[27]\tvalid_0's multi_logloss: 0.69165\n",
      "[28]\tvalid_0's multi_logloss: 0.684456\n",
      "[29]\tvalid_0's multi_logloss: 0.677787\n",
      "[30]\tvalid_0's multi_logloss: 0.668208\n",
      "[31]\tvalid_0's multi_logloss: 0.666411\n",
      "[32]\tvalid_0's multi_logloss: 0.662969\n",
      "[33]\tvalid_0's multi_logloss: 0.658896\n",
      "[34]\tvalid_0's multi_logloss: 0.657727\n",
      "[35]\tvalid_0's multi_logloss: 0.654553\n",
      "[36]\tvalid_0's multi_logloss: 0.64899\n",
      "[37]\tvalid_0's multi_logloss: 0.646213\n",
      "[38]\tvalid_0's multi_logloss: 0.64432\n",
      "[39]\tvalid_0's multi_logloss: 0.640282\n",
      "[40]\tvalid_0's multi_logloss: 0.641771\n",
      "[41]\tvalid_0's multi_logloss: 0.641562\n",
      "[42]\tvalid_0's multi_logloss: 0.638744\n",
      "[43]\tvalid_0's multi_logloss: 0.637828\n",
      "[44]\tvalid_0's multi_logloss: 0.635528\n",
      "[45]\tvalid_0's multi_logloss: 0.63387\n",
      "[46]\tvalid_0's multi_logloss: 0.635277\n",
      "[47]\tvalid_0's multi_logloss: 0.634986\n",
      "[48]\tvalid_0's multi_logloss: 0.635382\n",
      "[49]\tvalid_0's multi_logloss: 0.634444\n",
      "[50]\tvalid_0's multi_logloss: 0.633623\n",
      "[51]\tvalid_0's multi_logloss: 0.639236\n",
      "[52]\tvalid_0's multi_logloss: 0.637729\n",
      "[53]\tvalid_0's multi_logloss: 0.640817\n",
      "[54]\tvalid_0's multi_logloss: 0.639183\n",
      "[55]\tvalid_0's multi_logloss: 0.63776\n",
      "Early stopping, best iteration is:\n",
      "[50]\tvalid_0's multi_logloss: 0.633623\n",
      "0.7127659574468085\n"
     ]
    },
    {
     "name": "stderr",
     "output_type": "stream",
     "text": [
      "/home/yoshitaka-i/anaconda3/envs/py36/lib/python3.6/site-packages/sklearn/preprocessing/label.py:151: DeprecationWarning: The truth value of an empty array is ambiguous. Returning False, but in future this will result in an error. Use `array.size > 0` to check that an array is not empty.\n",
      "  if diff:\n"
     ]
    }
   ],
   "source": [
    "gbm = lgb.LGBMClassifier(\n",
    "    objective='multiclass',\n",
    "    device = 'gpu'\n",
    ")\n",
    "\n",
    "gbm.fit(\n",
    "    X_train, \n",
    "    y_train,\n",
    "    eval_set=[(X_test, y_test)],\n",
    "    early_stopping_rounds=5\n",
    ")\n",
    "\n",
    "lgb_result = gbm.predict_proba(X_test)\n",
    "print(gbm.score(X_test, y_test))"
   ]
  },
  {
   "cell_type": "code",
   "execution_count": 19,
   "metadata": {},
   "outputs": [],
   "source": [
    "o = {}"
   ]
  },
  {
   "cell_type": "code",
   "execution_count": 20,
   "metadata": {},
   "outputs": [],
   "source": [
    "o['xgb+rf'] = [round((sum(np.argmax((xgb_result+rf_result) , axis=1) == y_test)/len(y_test))*100, 2)]\n",
    "o['xgb+lgb'] = [round((sum(np.argmax((xgb_result+lgb_result) , axis=1) == y_test)/len(y_test))*100, 2)]\n",
    "o['rf+lgb'] = [round((sum(np.argmax((rf_result+lgb_result) , axis=1) == y_test)/len(y_test))*100, 2)]\n",
    "o['rf+lgb+xgb'] = [round((sum(np.argmax((xgb_result+rf_result+lgb_result) , axis=1) == y_test)/len(y_test))*100, 2)]"
   ]
  },
  {
   "cell_type": "code",
   "execution_count": 21,
   "metadata": {},
   "outputs": [
    {
     "data": {
      "text/html": [
       "<div>\n",
       "<style scoped>\n",
       "    .dataframe tbody tr th:only-of-type {\n",
       "        vertical-align: middle;\n",
       "    }\n",
       "\n",
       "    .dataframe tbody tr th {\n",
       "        vertical-align: top;\n",
       "    }\n",
       "\n",
       "    .dataframe thead th {\n",
       "        text-align: right;\n",
       "    }\n",
       "</style>\n",
       "<table border=\"1\" class=\"dataframe\">\n",
       "  <thead>\n",
       "    <tr style=\"text-align: right;\">\n",
       "      <th></th>\n",
       "      <th>0</th>\n",
       "    </tr>\n",
       "  </thead>\n",
       "  <tbody>\n",
       "    <tr>\n",
       "      <th>xgb+rf</th>\n",
       "      <td>71.28</td>\n",
       "    </tr>\n",
       "    <tr>\n",
       "      <th>xgb+lgb</th>\n",
       "      <td>70.21</td>\n",
       "    </tr>\n",
       "    <tr>\n",
       "      <th>rf+lgb</th>\n",
       "      <td>71.28</td>\n",
       "    </tr>\n",
       "    <tr>\n",
       "      <th>rf+lgb+xgb</th>\n",
       "      <td>72.34</td>\n",
       "    </tr>\n",
       "  </tbody>\n",
       "</table>\n",
       "</div>"
      ],
      "text/plain": [
       "                0\n",
       "xgb+rf      71.28\n",
       "xgb+lgb     70.21\n",
       "rf+lgb      71.28\n",
       "rf+lgb+xgb  72.34"
      ]
     },
     "execution_count": 21,
     "metadata": {},
     "output_type": "execute_result"
    }
   ],
   "source": [
    "pd.DataFrame(o).T"
   ]
  }
 ],
 "metadata": {
  "kernelspec": {
   "display_name": "py36",
   "language": "python",
   "name": "py36"
  },
  "language_info": {
   "codemirror_mode": {
    "name": "ipython",
    "version": 3
   },
   "file_extension": ".py",
   "mimetype": "text/x-python",
   "name": "python",
   "nbconvert_exporter": "python",
   "pygments_lexer": "ipython3",
   "version": "3.6.5"
  }
 },
 "nbformat": 4,
 "nbformat_minor": 2
}
